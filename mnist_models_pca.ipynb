{
 "cells": [
  {
   "cell_type": "code",
   "execution_count": 1,
   "metadata": {},
   "outputs": [
    {
     "name": "stderr",
     "output_type": "stream",
     "text": [
      "Using TensorFlow backend.\n"
     ]
    }
   ],
   "source": [
    "from keras.datasets import mnist"
   ]
  },
  {
   "cell_type": "code",
   "execution_count": 3,
   "metadata": {},
   "outputs": [],
   "source": [
    "(X_train, y_train), (X_test, y_test) = mnist.load_data()"
   ]
  },
  {
   "cell_type": "code",
   "execution_count": null,
   "metadata": {},
   "outputs": [],
   "source": [
    "X_train = X_train.reshape\n",
    "y_train\n",
    "X_test\n",
    "y_test"
   ]
  },
  {
   "cell_type": "code",
   "execution_count": 8,
   "metadata": {},
   "outputs": [
    {
     "name": "stdout",
     "output_type": "stream",
     "text": [
      "Label:  5\n"
     ]
    },
    {
     "data": {
      "application/javascript": [
       "\n",
       "        if (window._pyforest_update_imports_cell) { window._pyforest_update_imports_cell('import matplotlib.pyplot as plt'); }\n",
       "    "
      ],
      "text/plain": [
       "<IPython.core.display.Javascript object>"
      ]
     },
     "metadata": {},
     "output_type": "display_data"
    },
    {
     "data": {
      "application/javascript": [
       "\n",
       "        if (window._pyforest_update_imports_cell) { window._pyforest_update_imports_cell('import matplotlib.pyplot as plt'); }\n",
       "    "
      ],
      "text/plain": [
       "<IPython.core.display.Javascript object>"
      ]
     },
     "metadata": {},
     "output_type": "display_data"
    },
    {
     "data": {
      "image/png": "[encoded data removed]",
      "text/plain": [
       "<Figure size 432x288 with 1 Axes>"
      ]
     },
     "metadata": {
      "needs_background": "light"
     },
     "output_type": "display_data"
    },
    {
     "name": "stdout",
     "output_type": "stream",
     "text": [
      "Label:  0\n"
     ]
    },
    {
     "data": {
      "application/javascript": [
       "\n",
       "        if (window._pyforest_update_imports_cell) { window._pyforest_update_imports_cell('import matplotlib.pyplot as plt'); }\n",
       "    "
      ],
      "text/plain": [
       "<IPython.core.display.Javascript object>"
      ]
     },
     "metadata": {},
     "output_type": "display_data"
    },
    {
     "data": {
      "application/javascript": [
       "\n",
       "        if (window._pyforest_update_imports_cell) { window._pyforest_update_imports_cell('import matplotlib.pyplot as plt'); }\n",
       "    "
      ],
      "text/plain": [
       "<IPython.core.display.Javascript object>"
      ]
     },
     "metadata": {},
     "output_type": "display_data"
    },
    {
     "data": {
      "image/png": "[encoded data removed]",
      "text/plain": [
       "<Figure size 432x288 with 1 Axes>"
      ]
     },
     "metadata": {
      "needs_background": "light"
     },
     "output_type": "display_data"
    },
    {
     "name": "stdout",
     "output_type": "stream",
     "text": [
      "Label:  4\n"
     ]
    },
    {
     "data": {
      "application/javascript": [
       "\n",
       "        if (window._pyforest_update_imports_cell) { window._pyforest_update_imports_cell('import matplotlib.pyplot as plt'); }\n",
       "    "
      ],
      "text/plain": [
       "<IPython.core.display.Javascript object>"
      ]
     },
     "metadata": {},
     "output_type": "display_data"
    },
    {
     "data": {
      "application/javascript": [
       "\n",
       "        if (window._pyforest_update_imports_cell) { window._pyforest_update_imports_cell('import matplotlib.pyplot as plt'); }\n",
       "    "
      ],
      "text/plain": [
       "<IPython.core.display.Javascript object>"
      ]
     },
     "metadata": {},
     "output_type": "display_data"
    },
    {
     "data": {
      "image/png": "[encoded data removed]",
      "text/plain": [
       "<Figure size 432x288 with 1 Axes>"
      ]
     },
     "metadata": {
      "needs_background": "light"
     },
     "output_type": "display_data"
    },
    {
     "name": "stdout",
     "output_type": "stream",
     "text": [
      "Label:  1\n"
     ]
    },
    {
     "data": {
      "application/javascript": [
       "\n",
       "        if (window._pyforest_update_imports_cell) { window._pyforest_update_imports_cell('import matplotlib.pyplot as plt'); }\n",
       "    "
      ],
      "text/plain": [
       "<IPython.core.display.Javascript object>"
      ]
     },
     "metadata": {},
     "output_type": "display_data"
    },
    {
     "data": {
      "application/javascript": [
       "\n",
       "        if (window._pyforest_update_imports_cell) { window._pyforest_update_imports_cell('import matplotlib.pyplot as plt'); }\n",
       "    "
      ],
      "text/plain": [
       "<IPython.core.display.Javascript object>"
      ]
     },
     "metadata": {},
     "output_type": "display_data"
    },
    {
     "data": {
      "image/png": "[encoded data removed]",
      "text/plain": [
       "<Figure size 432x288 with 1 Axes>"
      ]
     },
     "metadata": {
      "needs_background": "light"
     },
     "output_type": "display_data"
    },
    {
     "name": "stdout",
     "output_type": "stream",
     "text": [
      "Label:  9\n"
     ]
    },
    {
     "data": {
      "application/javascript": [
       "\n",
       "        if (window._pyforest_update_imports_cell) { window._pyforest_update_imports_cell('import matplotlib.pyplot as plt'); }\n",
       "    "
      ],
      "text/plain": [
       "<IPython.core.display.Javascript object>"
      ]
     },
     "metadata": {},
     "output_type": "display_data"
    },
    {
     "data": {
      "application/javascript": [
       "\n",
       "        if (window._pyforest_update_imports_cell) { window._pyforest_update_imports_cell('import matplotlib.pyplot as plt'); }\n",
       "    "
      ],
      "text/plain": [
       "<IPython.core.display.Javascript object>"
      ]
     },
     "metadata": {},
     "output_type": "display_data"
    },
    {
     "data": {
      "image/png": "[encoded data removed]",
      "text/plain": [
       "<Figure size 432x288 with 1 Axes>"
      ]
     },
     "metadata": {
      "needs_background": "light"
     },
     "output_type": "display_data"
    }
   ],
   "source": [
    "for i in range(5):\n",
    "    print('Label: ', y_train[i])\n",
    "    plt.imshow(X_train[i])\n",
    "    plt.show()"
   ]
  },
  {
   "cell_type": "code",
   "execution_count": 10,
   "metadata": {},
   "outputs": [
    {
     "data": {
      "text/plain": [
       "((60000, 28, 28), (60000,))"
      ]
     },
     "execution_count": 10,
     "metadata": {},
     "output_type": "execute_result"
    }
   ],
   "source": [
    "X_train.shape, y_train.shape"
   ]
  },
  {
   "cell_type": "code",
   "execution_count": 12,
   "metadata": {},
   "outputs": [
    {
     "data": {
      "text/plain": [
       "((10000, 28, 28), (10000,))"
      ]
     },
     "execution_count": 12,
     "metadata": {},
     "output_type": "execute_result"
    }
   ],
   "source": [
    "X_test.shape, y_test.shape"
   ]
  },
  {
   "cell_type": "code",
   "execution_count": 13,
   "metadata": {},
   "outputs": [],
   "source": [
    "from sklearn.ensemble import RandomForestClassifier\n",
    "from sklearn.linear_model import LogisticRegression"
   ]
  },
  {
   "cell_type": "code",
   "execution_count": 17,
   "metadata": {},
   "outputs": [],
   "source": [
    "logr = LogisticRegression(random_state=0)"
   ]
  },
  {
   "cell_type": "code",
   "execution_count": null,
   "metadata": {},
   "outputs": [],
   "source": []
  },
  {
   "cell_type": "code",
   "execution_count": 18,
   "metadata": {},
   "outputs": [
    {
     "ename": "ValueError",
     "evalue": "Found array with dim 3. Estimator expected <= 2.",
     "output_type": "error",
     "traceback": [
      "\u001b[0;31m---------------------------------------------------------------------------\u001b[0m",
      "\u001b[0;31mValueError\u001b[0m                                Traceback (most recent call last)",
      "\u001b[0;32m<ipython-input-18-a875ba77a01d>\u001b[0m in \u001b[0;36m<module>\u001b[0;34m\u001b[0m\n\u001b[0;32m----> 1\u001b[0;31m \u001b[0mlogr\u001b[0m\u001b[0;34m.\u001b[0m\u001b[0mfit\u001b[0m\u001b[0;34m(\u001b[0m\u001b[0mX_train\u001b[0m\u001b[0;34m,\u001b[0m \u001b[0my_train\u001b[0m\u001b[0;34m)\u001b[0m\u001b[0;34m\u001b[0m\u001b[0;34m\u001b[0m\u001b[0m\n\u001b[0m",
      "\u001b[0;32m/usr/local/lib/python3.7/site-packages/sklearn/linear_model/_logistic.py\u001b[0m in \u001b[0;36mfit\u001b[0;34m(self, X, y, sample_weight)\u001b[0m\n\u001b[1;32m   1525\u001b[0m \u001b[0;34m\u001b[0m\u001b[0m\n\u001b[1;32m   1526\u001b[0m         X, y = check_X_y(X, y, accept_sparse='csr', dtype=_dtype, order=\"C\",\n\u001b[0;32m-> 1527\u001b[0;31m                          accept_large_sparse=solver != 'liblinear')\n\u001b[0m\u001b[1;32m   1528\u001b[0m         \u001b[0mcheck_classification_targets\u001b[0m\u001b[0;34m(\u001b[0m\u001b[0my\u001b[0m\u001b[0;34m)\u001b[0m\u001b[0;34m\u001b[0m\u001b[0;34m\u001b[0m\u001b[0m\n\u001b[1;32m   1529\u001b[0m         \u001b[0mself\u001b[0m\u001b[0;34m.\u001b[0m\u001b[0mclasses_\u001b[0m \u001b[0;34m=\u001b[0m \u001b[0mnp\u001b[0m\u001b[0;34m.\u001b[0m\u001b[0munique\u001b[0m\u001b[0;34m(\u001b[0m\u001b[0my\u001b[0m\u001b[0;34m)\u001b[0m\u001b[0;34m\u001b[0m\u001b[0;34m\u001b[0m\u001b[0m\n",
      "\u001b[0;32m/usr/local/lib/python3.7/site-packages/sklearn/utils/validation.py\u001b[0m in \u001b[0;36mcheck_X_y\u001b[0;34m(X, y, accept_sparse, accept_large_sparse, dtype, order, copy, force_all_finite, ensure_2d, allow_nd, multi_output, ensure_min_samples, ensure_min_features, y_numeric, warn_on_dtype, estimator)\u001b[0m\n\u001b[1;32m    753\u001b[0m                     \u001b[0mensure_min_features\u001b[0m\u001b[0;34m=\u001b[0m\u001b[0mensure_min_features\u001b[0m\u001b[0;34m,\u001b[0m\u001b[0;34m\u001b[0m\u001b[0;34m\u001b[0m\u001b[0m\n\u001b[1;32m    754\u001b[0m                     \u001b[0mwarn_on_dtype\u001b[0m\u001b[0;34m=\u001b[0m\u001b[0mwarn_on_dtype\u001b[0m\u001b[0;34m,\u001b[0m\u001b[0;34m\u001b[0m\u001b[0;34m\u001b[0m\u001b[0m\n\u001b[0;32m--> 755\u001b[0;31m                     estimator=estimator)\n\u001b[0m\u001b[1;32m    756\u001b[0m     \u001b[0;32mif\u001b[0m \u001b[0mmulti_output\u001b[0m\u001b[0;34m:\u001b[0m\u001b[0;34m\u001b[0m\u001b[0;34m\u001b[0m\u001b[0m\n\u001b[1;32m    757\u001b[0m         y = check_array(y, 'csr', force_all_finite=True, ensure_2d=False,\n",
      "\u001b[0;32m/usr/local/lib/python3.7/site-packages/sklearn/utils/validation.py\u001b[0m in \u001b[0;36mcheck_array\u001b[0;34m(array, accept_sparse, accept_large_sparse, dtype, order, copy, force_all_finite, ensure_2d, allow_nd, ensure_min_samples, ensure_min_features, warn_on_dtype, estimator)\u001b[0m\n\u001b[1;32m    572\u001b[0m         \u001b[0;32mif\u001b[0m \u001b[0;32mnot\u001b[0m \u001b[0mallow_nd\u001b[0m \u001b[0;32mand\u001b[0m \u001b[0marray\u001b[0m\u001b[0;34m.\u001b[0m\u001b[0mndim\u001b[0m \u001b[0;34m>=\u001b[0m \u001b[0;36m3\u001b[0m\u001b[0;34m:\u001b[0m\u001b[0;34m\u001b[0m\u001b[0;34m\u001b[0m\u001b[0m\n\u001b[1;32m    573\u001b[0m             raise ValueError(\"Found array with dim %d. %s expected <= 2.\"\n\u001b[0;32m--> 574\u001b[0;31m                              % (array.ndim, estimator_name))\n\u001b[0m\u001b[1;32m    575\u001b[0m \u001b[0;34m\u001b[0m\u001b[0m\n\u001b[1;32m    576\u001b[0m         \u001b[0;32mif\u001b[0m \u001b[0mforce_all_finite\u001b[0m\u001b[0;34m:\u001b[0m\u001b[0;34m\u001b[0m\u001b[0;34m\u001b[0m\u001b[0m\n",
      "\u001b[0;31mValueError\u001b[0m: Found array with dim 3. Estimator expected <= 2."
     ]
    }
   ],
   "source": [
    "logr.fit(X_train, y_train)"
   ]
  },
  {
   "cell_type": "code",
   "execution_count": 16,
   "metadata": {},
   "outputs": [
    {
     "data": {
      "text/plain": [
       "array([5, 0, 4, ..., 5, 6, 8], dtype=uint8)"
      ]
     },
     "execution_count": 16,
     "metadata": {},
     "output_type": "execute_result"
    }
   ],
   "source": [
    "y_train"
   ]
  },
  {
   "cell_type": "code",
   "execution_count": null,
   "metadata": {},
   "outputs": [],
   "source": []
  },
  {
   "cell_type": "code",
   "execution_count": null,
   "metadata": {},
   "outputs": [],
   "source": []
  },
  {
   "cell_type": "code",
   "execution_count": null,
   "metadata": {},
   "outputs": [],
   "source": []
  },
  {
   "cell_type": "code",
   "execution_count": 19,
   "metadata": {},
   "outputs": [
    {
     "data": {
      "application/javascript": [
       "\n",
       "        if (window._pyforest_update_imports_cell) { window._pyforest_update_imports_cell('import matplotlib.pyplot as plt\\nimport numpy as np'); }\n",
       "    "
      ],
      "text/plain": [
       "<IPython.core.display.Javascript object>"
      ]
     },
     "metadata": {},
     "output_type": "display_data"
    },
    {
     "data": {
      "application/javascript": [
       "\n",
       "        if (window._pyforest_update_imports_cell) { window._pyforest_update_imports_cell('import matplotlib.pyplot as plt\\nimport numpy as np'); }\n",
       "    "
      ],
      "text/plain": [
       "<IPython.core.display.Javascript object>"
      ]
     },
     "metadata": {},
     "output_type": "display_data"
    }
   ],
   "source": [
    "first = np.random.choice(1000,1000)\n",
    "second = np.random.choice(1000,1000)"
   ]
  },
  {
   "cell_type": "code",
   "execution_count": 20,
   "metadata": {},
   "outputs": [
    {
     "data": {
      "application/javascript": [
       "\n",
       "        if (window._pyforest_update_imports_cell) { window._pyforest_update_imports_cell('import matplotlib.pyplot as plt\\nimport pandas as pd\\nimport numpy as np'); }\n",
       "    "
      ],
      "text/plain": [
       "<IPython.core.display.Javascript object>"
      ]
     },
     "metadata": {},
     "output_type": "display_data"
    }
   ],
   "source": [
    "df = pd.DataFrame(data=first, columns=['first'])\n",
    "df['second'] = second\n",
    "df['weights'] = .01\n",
    "df['bias'] = 500"
   ]
  },
  {
   "cell_type": "code",
   "execution_count": 21,
   "metadata": {},
   "outputs": [],
   "source": [
    "df['sums'] = df['first'] + df['second']"
   ]
  },
  {
   "cell_type": "code",
   "execution_count": 22,
   "metadata": {},
   "outputs": [
    {
     "data": {
      "text/html": [
       "<div>\n",
       "<style scoped>\n",
       "    .dataframe tbody tr th:only-of-type {\n",
       "        vertical-align: middle;\n",
       "    }\n",
       "\n",
       "    .dataframe tbody tr th {\n",
       "        vertical-align: top;\n",
       "    }\n",
       "\n",
       "    .dataframe thead th {\n",
       "        text-align: right;\n",
       "    }\n",
       "</style>\n",
       "<table border=\"1\" class=\"dataframe\">\n",
       "  <thead>\n",
       "    <tr style=\"text-align: right;\">\n",
       "      <th></th>\n",
       "      <th>first</th>\n",
       "      <th>second</th>\n",
       "      <th>weights</th>\n",
       "      <th>bias</th>\n",
       "      <th>sums</th>\n",
       "    </tr>\n",
       "  </thead>\n",
       "  <tbody>\n",
       "    <tr>\n",
       "      <th>0</th>\n",
       "      <td>516</td>\n",
       "      <td>958</td>\n",
       "      <td>0.01</td>\n",
       "      <td>500</td>\n",
       "      <td>1474</td>\n",
       "    </tr>\n",
       "    <tr>\n",
       "      <th>1</th>\n",
       "      <td>775</td>\n",
       "      <td>114</td>\n",
       "      <td>0.01</td>\n",
       "      <td>500</td>\n",
       "      <td>889</td>\n",
       "    </tr>\n",
       "    <tr>\n",
       "      <th>2</th>\n",
       "      <td>307</td>\n",
       "      <td>861</td>\n",
       "      <td>0.01</td>\n",
       "      <td>500</td>\n",
       "      <td>1168</td>\n",
       "    </tr>\n",
       "    <tr>\n",
       "      <th>3</th>\n",
       "      <td>935</td>\n",
       "      <td>57</td>\n",
       "      <td>0.01</td>\n",
       "      <td>500</td>\n",
       "      <td>992</td>\n",
       "    </tr>\n",
       "    <tr>\n",
       "      <th>4</th>\n",
       "      <td>512</td>\n",
       "      <td>806</td>\n",
       "      <td>0.01</td>\n",
       "      <td>500</td>\n",
       "      <td>1318</td>\n",
       "    </tr>\n",
       "    <tr>\n",
       "      <th>...</th>\n",
       "      <td>...</td>\n",
       "      <td>...</td>\n",
       "      <td>...</td>\n",
       "      <td>...</td>\n",
       "      <td>...</td>\n",
       "    </tr>\n",
       "    <tr>\n",
       "      <th>995</th>\n",
       "      <td>217</td>\n",
       "      <td>742</td>\n",
       "      <td>0.01</td>\n",
       "      <td>500</td>\n",
       "      <td>959</td>\n",
       "    </tr>\n",
       "    <tr>\n",
       "      <th>996</th>\n",
       "      <td>961</td>\n",
       "      <td>276</td>\n",
       "      <td>0.01</td>\n",
       "      <td>500</td>\n",
       "      <td>1237</td>\n",
       "    </tr>\n",
       "    <tr>\n",
       "      <th>997</th>\n",
       "      <td>991</td>\n",
       "      <td>711</td>\n",
       "      <td>0.01</td>\n",
       "      <td>500</td>\n",
       "      <td>1702</td>\n",
       "    </tr>\n",
       "    <tr>\n",
       "      <th>998</th>\n",
       "      <td>187</td>\n",
       "      <td>955</td>\n",
       "      <td>0.01</td>\n",
       "      <td>500</td>\n",
       "      <td>1142</td>\n",
       "    </tr>\n",
       "    <tr>\n",
       "      <th>999</th>\n",
       "      <td>248</td>\n",
       "      <td>120</td>\n",
       "      <td>0.01</td>\n",
       "      <td>500</td>\n",
       "      <td>368</td>\n",
       "    </tr>\n",
       "  </tbody>\n",
       "</table>\n",
       "<p>1000 rows × 5 columns</p>\n",
       "</div>"
      ],
      "text/plain": [
       "     first  second  weights  bias  sums\n",
       "0      516     958     0.01   500  1474\n",
       "1      775     114     0.01   500   889\n",
       "2      307     861     0.01   500  1168\n",
       "3      935      57     0.01   500   992\n",
       "4      512     806     0.01   500  1318\n",
       "..     ...     ...      ...   ...   ...\n",
       "995    217     742     0.01   500   959\n",
       "996    961     276     0.01   500  1237\n",
       "997    991     711     0.01   500  1702\n",
       "998    187     955     0.01   500  1142\n",
       "999    248     120     0.01   500   368\n",
       "\n",
       "[1000 rows x 5 columns]"
      ]
     },
     "execution_count": 22,
     "metadata": {},
     "output_type": "execute_result"
    }
   ],
   "source": [
    "df"
   ]
  },
  {
   "cell_type": "code",
   "execution_count": 23,
   "metadata": {},
   "outputs": [],
   "source": [
    "X_train = df[['first', 'second']][:800]"
   ]
  },
  {
   "cell_type": "code",
   "execution_count": 24,
   "metadata": {},
   "outputs": [],
   "source": [
    "y_train = df['sums'][:800]"
   ]
  },
  {
   "cell_type": "code",
   "execution_count": 25,
   "metadata": {},
   "outputs": [
    {
     "data": {
      "text/plain": [
       "0      1474\n",
       "1       889\n",
       "2      1168\n",
       "3       992\n",
       "4      1318\n",
       "       ... \n",
       "795     902\n",
       "796    1340\n",
       "797     430\n",
       "798    1175\n",
       "799    1162\n",
       "Name: sums, Length: 800, dtype: int64"
      ]
     },
     "execution_count": 25,
     "metadata": {},
     "output_type": "execute_result"
    }
   ],
   "source": [
    "y_train"
   ]
  },
  {
   "cell_type": "code",
   "execution_count": 51,
   "metadata": {},
   "outputs": [],
   "source": [
    "def prepare(ind):\n",
    "    # return int1, int2, wt, bias\n",
    "    return df.iloc[ind].drop('sums').values\n",
    "\n",
    "# int1, int2, wt, bias = prepare(0)\n",
    "\n",
    "def forward(i1, i2, w, b):\n",
    "    final = w*(i1 + i2) + b\n",
    "    return final\n",
    "\n",
    "# fv = forward(samp)\n",
    "# fv\n",
    "\n",
    "# rs = df.iloc[0].sums\n",
    "# rs\n",
    "\n",
    "def loss(forward_value, real_sum, weight):\n",
    "    ratio = (real_sum - forward_value)/real_sum\n",
    "    if forward_value < real_sum:\n",
    "        # make weight larger\n",
    "        return weight/ratio*-1\n",
    "    if forward_value > real_sum:\n",
    "        # make weight smaller \n",
    "        return weight*ratio\n",
    "    if forward_value == real_sum:\n",
    "        return weight"
   ]
  },
  {
   "cell_type": "code",
   "execution_count": 52,
   "metadata": {},
   "outputs": [],
   "source": [
    "def epochs(how_many, index):\n",
    "    curr = 1\n",
    "    for i in range(how_many):\n",
    "        int1, int2, wt, bias = prepare(index)\n",
    "        fv = forward(int1, int2, wt, bias)\n",
    "        rs = df.iloc[index].sums\n",
    "        wt = loss(fv, rs, wt)\n",
    "        df['weights'][index] = wt\n",
    "        print('epoch: ', curr)\n",
    "        print('new weight: ', wt)\n",
    "        print('new guess: ', fv)\n",
    "        print('real sum: ', rs)\n",
    "        curr += 1"
   ]
  },
  {
   "cell_type": "code",
   "execution_count": 54,
   "metadata": {
    "scrolled": false
   },
   "outputs": [
    {
     "name": "stdout",
     "output_type": "stream",
     "text": [
      "epoch:  1\n",
      "new weight:  0.8846311054240864\n",
      "new guess:  -6968.483596469761\n",
      "real sum:  1474.0\n",
      "epoch:  2\n",
      "new weight:  -0.1980194812299333\n",
      "new guess:  1803.9462493951035\n",
      "real sum:  1474.0\n",
      "epoch:  3\n",
      "new weight:  0.2305752128123369\n",
      "new guess:  208.11928466707832\n",
      "real sum:  1474.0\n",
      "epoch:  4\n",
      "new weight:  -0.5359574830264778\n",
      "new guess:  839.8678636853846\n",
      "real sum:  1474.0\n",
      "epoch:  5\n",
      "new weight:  0.4478462212891442\n",
      "new guess:  -290.00132998102833\n",
      "real sum:  1474.0\n",
      "epoch:  6\n",
      "new weight:  -2.103149421261623\n",
      "new guess:  1160.1253301801985\n",
      "real sum:  1474.0\n",
      "epoch:  7\n",
      "new weight:  0.760925405049087\n",
      "new guess:  -2600.0422469396326\n",
      "real sum:  1474.0\n",
      "epoch:  8\n",
      "new weight:  -0.07619787603974758\n",
      "new guess:  1621.6040470423543\n",
      "real sum:  1474.0\n",
      "epoch:  9\n",
      "new weight:  0.10339137366651645\n",
      "new guess:  387.6843307174121\n",
      "real sum:  1474.0\n",
      "epoch:  10\n",
      "new weight:  -0.1854901143171671\n",
      "new guess:  652.3988847844453\n",
      "real sum:  1474.0\n",
      "epoch:  11\n",
      "new weight:  0.21918366552713583\n",
      "new guess:  226.58757149649568\n",
      "real sum:  1474.0\n",
      "epoch:  12\n",
      "new weight:  -0.4963361034952587\n",
      "new guess:  823.0767229869982\n",
      "real sum:  1474.0\n",
      "epoch:  13\n",
      "new weight:  0.42893976712948856\n",
      "new guess:  -231.59941655201135\n",
      "real sum:  1474.0\n",
      "epoch:  14\n",
      "new weight:  -1.850096762055818\n",
      "new guess:  1132.257216748866\n",
      "real sum:  1474.0\n",
      "epoch:  15\n",
      "new weight:  0.7368309154768155\n",
      "new guess:  -2227.0426272702757\n",
      "real sum:  1474.0\n",
      "epoch:  16\n",
      "new weight:  -0.05603152685286447\n",
      "new guess:  1586.088769412826\n",
      "real sum:  1474.0\n",
      "epoch:  17\n",
      "new weight:  0.0781669652345981\n",
      "new guess:  417.40952941887775\n",
      "real sum:  1474.0\n",
      "epoch:  18\n",
      "new weight:  -0.13416457387165043\n",
      "new guess:  615.2181067557976\n",
      "real sum:  1474.0\n",
      "epoch:  19\n",
      "new weight:  0.1687707561470332\n",
      "new guess:  302.24141811318725\n",
      "real sum:  1474.0\n",
      "epoch:  20\n",
      "new weight:  -0.3430186850508846\n",
      "new guess:  748.7680945607269\n",
      "real sum:  1474.0\n",
      "epoch:  21\n",
      "new weight:  0.3417182219316252\n",
      "new guess:  -5.609541765003939\n",
      "real sum:  1474.0\n",
      "epoch:  22\n",
      "new weight:  -1.0709861729831298\n",
      "new guess:  1003.6926591272156\n",
      "real sum:  1474.0\n",
      "epoch:  23\n",
      "new weight:  0.6184332946338409\n",
      "new guess:  -1078.6336189771334\n",
      "real sum:  1474.0\n",
      "epoch:  24\n",
      "new weight:  -14.601642659607641\n",
      "new guess:  1411.5706762902814\n",
      "real sum:  1474.0\n",
      "epoch:  25\n",
      "new weight:  0.9567049945471822\n",
      "new guess:  -21022.82128026166\n",
      "real sum:  1474.0\n",
      "epoch:  26\n",
      "new weight:  -0.28310624802371154\n",
      "new guess:  1910.1831619625466\n",
      "real sum:  1474.0\n",
      "epoch:  27\n",
      "new weight:  0.2999346126787538\n",
      "new guess:  82.70139041304918\n",
      "real sum:  1474.0\n",
      "epoch:  28\n",
      "new weight:  -0.8311837323105022\n",
      "new guess:  942.1036190884831\n",
      "real sum:  1474.0\n",
      "epoch:  29\n",
      "new weight:  0.557104592384043\n",
      "new guess:  -725.1648214256802\n",
      "real sum:  1474.0\n",
      "epoch:  30\n",
      "new weight:  -5.373184744795865\n",
      "new guess:  1321.1721691740795\n",
      "real sum:  1474.0\n",
      "epoch:  31\n",
      "new weight:  0.89048888443786\n",
      "new guess:  -7420.074313829105\n",
      "real sum:  1474.0\n",
      "epoch:  32\n",
      "new weight:  -0.20454699778331673\n",
      "new guess:  1812.5806156614055\n",
      "real sum:  1474.0\n",
      "epoch:  33\n",
      "new weight:  0.23637925286790615\n",
      "new guess:  198.49772526739116\n",
      "real sum:  1474.0\n",
      "epoch:  34\n",
      "new weight:  -0.5569626587257794\n",
      "new guess:  848.4230187272937\n",
      "real sum:  1474.0\n",
      "epoch:  35\n",
      "new weight:  0.45737041807071127\n",
      "new guess:  -320.9629589617989\n",
      "real sum:  1474.0\n",
      "epoch:  36\n",
      "new weight:  -2.2484424411131565\n",
      "new guess:  1174.1639962362283\n",
      "real sum:  1474.0\n",
      "epoch:  37\n",
      "new weight:  0.772865291840801\n",
      "new guess:  -2814.204158200793\n",
      "real sum:  1474.0\n",
      "epoch:  38\n",
      "new weight:  -0.08662144165717313\n",
      "new guess:  1639.2034401733406\n",
      "real sum:  1474.0\n",
      "epoch:  39\n",
      "new weight:  0.11589572691061356\n",
      "new guess:  372.31999499732683\n",
      "real sum:  1474.0\n",
      "epoch:  40\n",
      "new weight:  -0.212695152441766\n",
      "new guess:  670.8303014662444\n",
      "real sum:  1474.0\n",
      "epoch:  41\n",
      "new weight:  0.243502581162915\n",
      "new guess:  186.48734530083692\n",
      "real sum:  1474.0\n",
      "epoch:  42\n",
      "new weight:  -0.5835410698662638\n",
      "new guess:  858.9228046341368\n",
      "real sum:  1474.0\n",
      "epoch:  43\n",
      "new weight:  0.46896079586059586\n",
      "new guess:  -360.13953698287276\n",
      "real sum:  1474.0\n",
      "epoch:  44\n",
      "new weight:  -2.4447173992197166\n",
      "new guess:  1191.2482130985181\n",
      "real sum:  1474.0\n",
      "epoch:  45\n",
      "new weight:  0.7872207233480886\n",
      "new guess:  -3103.5134464498624\n",
      "real sum:  1474.0\n",
      "epoch:  46\n",
      "new weight:  -0.09953126744437424\n",
      "new guess:  1660.3633462150826\n",
      "real sum:  1474.0\n",
      "epoch:  47\n",
      "new weight:  0.1309073779770432\n",
      "new guess:  353.2909117869924\n",
      "real sum:  1474.0\n",
      "epoch:  48\n",
      "new weight:  -0.24705117710753927\n",
      "new guess:  692.9574751381617\n",
      "real sum:  1474.0\n",
      "epoch:  49\n",
      "new weight:  0.2721313008781642\n",
      "new guess:  135.84656494348712\n",
      "real sum:  1474.0\n",
      "epoch:  50\n",
      "new weight:  -0.7001861018479164\n",
      "new guess:  901.121537494414\n",
      "real sum:  1474.0\n",
      "epoch:  51\n",
      "new weight:  0.5144746168461842\n",
      "new guess:  -532.0743141238288\n",
      "real sum:  1474.0\n",
      "epoch:  52\n",
      "new weight:  -3.5162759050653056\n",
      "new guess:  1258.3355852312757\n",
      "real sum:  1474.0\n",
      "epoch:  53\n",
      "new weight:  0.8418058350290142\n",
      "new guess:  -4682.990684066261\n",
      "real sum:  1474.0\n",
      "epoch:  54\n",
      "new weight:  -0.152382733279493\n",
      "new guess:  1740.821800832767\n",
      "real sum:  1474.0\n",
      "epoch:  55\n",
      "new weight:  0.18739351930374706\n",
      "new guess:  275.3878511460273\n",
      "real sum:  1474.0\n",
      "epoch:  56\n",
      "new weight:  -0.395851521303719\n",
      "new guess:  776.2180474537231\n",
      "real sum:  1474.0\n",
      "epoch:  57\n",
      "new weight:  0.3746328786815474\n",
      "new guess:  -83.48514240168174\n",
      "real sum:  1474.0\n",
      "epoch:  58\n",
      "new weight:  -1.3091997791499512\n",
      "new guess:  1052.208863176601\n",
      "real sum:  1474.0\n",
      "epoch:  59\n",
      "new weight:  0.6645728845183854\n",
      "new guess:  -1429.7604744670282\n",
      "real sum:  1474.0\n",
      "epoch:  60\n",
      "new weight:  -0.002516013327652084\n",
      "new guess:  1479.5804317801\n",
      "real sum:  1474.0\n",
      "epoch:  61\n",
      "new weight:  0.003793158443255244\n",
      "new guess:  496.29139635504083\n",
      "real sum:  1474.0\n",
      "epoch:  62\n",
      "new weight:  -0.005773507074449094\n",
      "new guess:  505.5911155453582\n",
      "real sum:  1474.0\n",
      "epoch:  63\n",
      "new weight:  0.008661640220912417\n",
      "new guess:  491.489850572262\n",
      "real sum:  1474.0\n",
      "epoch:  64\n",
      "new weight:  -0.013282171032673084\n",
      "new guess:  512.7672576856249\n",
      "real sum:  1474.0\n",
      "epoch:  65\n",
      "new weight:  0.019704463742659575\n",
      "new guess:  480.42207989783986\n",
      "real sum:  1474.0\n",
      "epoch:  66\n",
      "new weight:  -0.030736236631995723\n",
      "new guess:  529.0443795566803\n",
      "real sum:  1474.0\n",
      "epoch:  67\n",
      "new weight:  0.04444715108569586\n",
      "new guess:  454.6947872044383\n",
      "real sum:  1474.0\n",
      "epoch:  68\n",
      "new weight:  -0.07211468319486514\n",
      "new guess:  565.5151007003157\n",
      "real sum:  1474.0\n",
      "epoch:  69\n",
      "new weight:  0.09839612513533\n",
      "new guess:  393.7029569707688\n",
      "real sum:  1474.0\n",
      "epoch:  70\n",
      "new weight:  -0.17496039506245475\n",
      "new guess:  645.0358884494765\n",
      "real sum:  1474.0\n",
      "epoch:  71\n",
      "new weight:  0.20934603146009276\n",
      "new guess:  242.1083776779417\n",
      "real sum:  1474.0\n",
      "epoch:  72\n",
      "new weight:  -0.4637285005217586\n",
      "new guess:  808.5760503721767\n",
      "real sum:  1474.0\n",
      "epoch:  73\n",
      "new weight:  0.41238071946349225\n",
      "new guess:  -183.53580976907222\n",
      "real sum:  1474.0\n",
      "epoch:  74\n",
      "new weight:  -1.66010602216128\n",
      "new guess:  1107.8491804891876\n",
      "real sum:  1474.0\n",
      "epoch:  75\n",
      "new weight:  0.715287617632455\n",
      "new guess:  -1946.9962766657268\n",
      "real sum:  1474.0\n",
      "epoch:  76\n",
      "new weight:  -0.038983635386066764\n",
      "new guess:  1554.3339483902387\n",
      "real sum:  1474.0\n",
      "epoch:  77\n",
      "new weight:  0.055709163618665035\n",
      "new guess:  442.5381214409376\n",
      "real sum:  1474.0\n",
      "epoch:  78\n",
      "new weight:  -0.09206942089533568\n",
      "new guess:  582.1153071739122\n",
      "real sum:  1474.0\n",
      "epoch:  79\n",
      "new weight:  0.12229346990039731\n",
      "new guess:  364.28967360027525\n",
      "real sum:  1474.0\n",
      "epoch:  80\n",
      "new weight:  -0.22710296209600656\n",
      "new guess:  680.2605746331857\n",
      "real sum:  1474.0\n",
      "epoch:  81\n",
      "new weight:  0.2557782815270332\n",
      "new guess:  165.25023387048634\n",
      "real sum:  1474.0\n",
      "epoch:  82\n",
      "new weight:  -0.6315377574403229\n",
      "new guess:  877.017186970847\n",
      "real sum:  1474.0\n",
      "epoch:  83\n",
      "new weight:  0.4886834879566557\n",
      "new guess:  -430.886654467036\n",
      "real sum:  1474.0\n",
      "epoch:  84\n",
      "new weight:  -2.8394746589237356\n",
      "new guess:  1220.3194612481107\n",
      "real sum:  1474.0\n",
      "epoch:  85\n",
      "new weight:  0.8112178335576691\n",
      "new guess:  -3685.3856472535863\n",
      "real sum:  1474.0\n",
      "epoch:  86\n",
      "new weight:  -0.12203219581227649\n",
      "new guess:  1695.7350866640043\n",
      "real sum:  1474.0\n",
      "epoch:  87\n",
      "new weight:  0.15588810351600688\n",
      "new guess:  320.12454337270447\n",
      "real sum:  1474.0\n",
      "epoch:  88\n",
      "new weight:  -0.30875114317191255\n",
      "new guess:  729.7790645825942\n",
      "real sum:  1474.0\n",
      "epoch:  89\n",
      "new weight:  0.3184517840335387\n",
      "new guess:  44.9008149646009\n",
      "real sum:  1474.0\n",
      "epoch:  90\n",
      "new weight:  -0.9302338560644695\n",
      "new guess:  969.3979296654361\n",
      "real sum:  1474.0\n",
      "epoch:  91\n",
      "new weight:  0.5846773583085381\n",
      "new guess:  -871.1647038390281\n",
      "real sum:  1474.0\n",
      "epoch:  92\n",
      "new weight:  -7.682043212386598\n",
      "new guess:  1361.814426146785\n",
      "real sum:  1474.0\n",
      "epoch:  93\n",
      "new weight:  0.9207958259439779\n",
      "new guess:  -10823.331695057846\n",
      "real sum:  1474.0\n",
      "epoch:  94\n",
      "new weight:  -0.23941506537610038\n",
      "new guess:  1857.2530474414234\n",
      "real sum:  1474.0\n",
      "epoch:  95\n",
      "new weight:  0.2659570350269045\n",
      "new guess:  147.10219363562805\n",
      "real sum:  1474.0\n",
      "epoch:  96\n",
      "new weight:  -0.6735989564787375\n",
      "new guess:  892.0206696296573\n",
      "real sum:  1474.0\n",
      "epoch:  97\n",
      "new weight:  0.5048007034412527\n",
      "new guess:  -492.88486184965905\n",
      "real sum:  1474.0\n",
      "epoch:  98\n",
      "new weight:  -3.2361867549092356\n",
      "new guess:  1244.0762368724065\n",
      "real sum:  1474.0\n",
      "epoch:  99\n",
      "new weight:  0.8304358663543024\n",
      "new guess:  -4270.139276736213\n",
      "real sum:  1474.0\n",
      "epoch:  100\n",
      "new weight:  -0.14088252471575483\n",
      "new guess:  1724.0624670062418\n",
      "real sum:  1474.0\n"
     ]
    },
    {
     "name": "stderr",
     "output_type": "stream",
     "text": [
      "/usr/local/lib/python3.7/site-packages/ipykernel_launcher.py:8: SettingWithCopyWarning: \n",
      "A value is trying to be set on a copy of a slice from a DataFrame\n",
      "\n",
      "See the caveats in the documentation: https://pandas.pydata.org/pandas-docs/stable/user_guide/indexing.html#returning-a-view-versus-a-copy\n",
      "  \n"
     ]
    }
   ],
   "source": [
    "epochs(100, 0)"
   ]
  },
  {
   "cell_type": "code",
   "execution_count": null,
   "metadata": {},
   "outputs": [],
   "source": []
  },
  {
   "cell_type": "code",
   "execution_count": null,
   "metadata": {},
   "outputs": [],
   "source": []
  }
 ],
 "metadata": {
  "kernelspec": {
   "display_name": "pca_kernel",
   "language": "python",
   "name": "pca_kernel"
  },
  "language_info": {
   "codemirror_mode": {
    "name": "ipython",
    "version": 3
   },
   "file_extension": ".py",
   "mimetype": "text/x-python",
   "name": "python",
   "nbconvert_exporter": "python",
   "pygments_lexer": "ipython3",
   "version": "3.7.7"
  },
  "toc": {
   "base_numbering": 1,
   "nav_menu": {},
   "number_sections": true,
   "sideBar": true,
   "skip_h1_title": false,
   "title_cell": "Table of Contents",
   "title_sidebar": "Contents",
   "toc_cell": false,
   "toc_position": {},
   "toc_section_display": true,
   "toc_window_display": false
  }
 },
 "nbformat": 4,
 "nbformat_minor": 4
}
